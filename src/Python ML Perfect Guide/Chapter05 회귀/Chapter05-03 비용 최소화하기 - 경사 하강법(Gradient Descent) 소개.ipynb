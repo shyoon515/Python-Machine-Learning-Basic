{
 "cells": [
  {
   "cell_type": "markdown",
   "metadata": {},
   "source": [
    "$RSS(w_0,w_1) = \\frac{1}{N} {\\sum_{i=1}^N (y_i - (w_0+w_1*x_i))}^2$\n",
    "\n",
    "이를 $R(w)$라 표기."
   ]
  },
  {
   "cell_type": "markdown",
   "metadata": {},
   "source": [
    "아래는 각각 R(w)를 w_1, w_0로 편미분한 결과.\n",
    "\n",
    "$\\frac{\\partial R(w)}{\\partial w_1} = \\frac{2}{N} {\\sum_{i=1}^N -x_i * (y_i - (w_0+w_1 x_i))} = - \\frac{2}{N} {\\sum_{i=1}^N x_i * (실제값_i - 예측값_i)}$\n",
    "$\\frac{\\partial R(w)}{\\partial w_0} = \\frac{2}{N} {\\sum_{i=1}^N -(y_i - (w_0+w_1 x_i))} = - \\frac{2}{N} {\\sum_{i=1}^N (실제값_i - 예측값_i)}$"
   ]
  },
  {
   "cell_type": "code",
   "execution_count": null,
   "metadata": {},
   "outputs": [],
   "source": []
  }
 ],
 "metadata": {
  "kernelspec": {
   "display_name": "Python 3",
   "language": "python",
   "name": "python3"
  },
  "language_info": {
   "codemirror_mode": {
    "name": "ipython",
    "version": 3
   },
   "file_extension": ".py",
   "mimetype": "text/x-python",
   "name": "python",
   "nbconvert_exporter": "python",
   "pygments_lexer": "ipython3",
   "version": "3.7.4"
  }
 },
 "nbformat": 4,
 "nbformat_minor": 4
}
