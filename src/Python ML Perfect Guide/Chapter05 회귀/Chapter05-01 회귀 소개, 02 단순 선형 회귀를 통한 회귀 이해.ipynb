{
 "cells": [
  {
   "cell_type": "markdown",
   "metadata": {},
   "source": [
    "# Chapter05-01 회귀 소개"
   ]
  },
  {
   "cell_type": "markdown",
   "metadata": {},
   "source": [
    "#### 회귀 분석: 데이터 값이 평균과 같은 일정한 값으로 돌아가려는 경향을 이용한 통계학 기법, 여러 개의 독립 변수와 한 개의 종속변수 간의 상관관계를 모델링하는 기법을 통칭.\n",
    "#### 머신러닝 회귀 예측의 핵심은 주어진 피처와 결정 값 데이터 기반에서 학습을 통해 \"최적의 회귀 계수\"를 찾아내는 것.\n",
    "독립변수 개수가 1개이면 단일 회귀, 여러 개이면 다중 회귀. 회귀 계수의 결합이 선형이면 선형 회귀, 비선형이면 비선형 회귀이다."
   ]
  },
  {
   "cell_type": "markdown",
   "metadata": {},
   "source": [
    "#### 선형 회귀 모델\n",
    "실제 값과 예측값의 차이(오류 제곱 값)를 최소화하는 직선형 회귀선을 최적화하는 방식으로, 가장 많이 사용됨. 규제(Regularization) 방법에 따라 다시 별도의 유형으로 나뉨. 규제는 일반적인 선형 회귀의 과적합 문제를 해결하기 위해서 회귀 계수에 페널티 값을 적용하는 것을 말함.\n",
    "- 일반 선형 회귀: 예측값과 실제 값의 RSS(Residual Sum of Sqaures)를 최소화할 수 있도록 회귀계수를 최적화하며, 규제(Regularization)를 적용하지 않은 모델.\n",
    "- 릿지(Ridge): 릿지 회귀는 선형 회귀에 L2 규제를 추가한 회귀 모델. L2 규제는 상대적으로 큰 회귀 계수 값의 예측 영향도를 감소시키기 위해서 회귀 계수값을 더 작게 만드는 규제 모델임.\n",
    "- 라쏘(Lasso): 라쏘 회귀는 선형 회귀에 L1 규제를 적용한 방식. L2 규제가 회귀 계수 값의 크기를 줄이는 데 반해, L1 규제는 예측 영향력이 작은 피처의 회귀 계수를 0으로 만들어 회귀 예측 시 피처가 선택되지 않게 하는 것. L1 규제는 피처 선택 기능으로도 불림.\n",
    "- 엘라스틱넷(ElasticNet) L2, L1 규제를 함께 결합한 모델. 주로 피처가 많은 데이터 세트에서 적용, L1 규제로 피처의 개수를 줄임과 동시에 L2 규제로 계수 값의 크기를 조정.\n",
    "- 로지스틱 회귀(Logistic Regression): 로지스틱 회귀는 회귀라는 이름이 붙어있지만, 사실은 분류에 사용되는 선형 모델. 로지스틱 회귀는 매우 강력한 분류 알고리즘임. 일반적으로 이진 분류 뿐만 아니라 희소 영역의 분류, 예를 들어 텍스트 분류와 같은 영역에서 뛰어난 예측 성능을 보임."
   ]
  },
  {
   "cell_type": "markdown",
   "metadata": {},
   "source": [
    "# Chapter05-02 단순 선형 회귀를 통한 회귀 이해"
   ]
  },
  {
   "cell_type": "markdown",
   "metadata": {},
   "source": [
    "#### RSS(Residual Sum of Square) 방식으로 오류 합을 구함. RSS는 변수가 $w_0$, $w_1$인 식으로 표현할 수 있음. 회귀 계수를 학습을 통해서 찾는 것이 머신러닝 기반 회귀의 핵심사항이며, 독립변수 X, 종속변수 Y가 중심 변수가 아니라 w 변수(회귀 계수)가 중심 변수임을 인지하는 것이 매우 중요함."
   ]
  },
  {
   "cell_type": "markdown",
   "metadata": {},
   "source": [
    "$RSS(w_0,w_1) = \\frac{1}{N} {\\sum_{i=1}^N (y_i - (w_0+w_1*x_i))}^2$"
   ]
  },
  {
   "cell_type": "code",
   "execution_count": null,
   "metadata": {},
   "outputs": [],
   "source": []
  }
 ],
 "metadata": {
  "kernelspec": {
   "display_name": "Python 3",
   "language": "python",
   "name": "python3"
  },
  "language_info": {
   "codemirror_mode": {
    "name": "ipython",
    "version": 3
   },
   "file_extension": ".py",
   "mimetype": "text/x-python",
   "name": "python",
   "nbconvert_exporter": "python",
   "pygments_lexer": "ipython3",
   "version": "3.7.4"
  }
 },
 "nbformat": 4,
 "nbformat_minor": 4
}
